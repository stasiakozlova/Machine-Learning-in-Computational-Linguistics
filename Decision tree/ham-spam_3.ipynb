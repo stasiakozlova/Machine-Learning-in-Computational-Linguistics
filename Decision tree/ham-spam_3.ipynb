{
 "cells": [
  {
   "cell_type": "code",
   "execution_count": 2,
   "metadata": {
    "collapsed": true,
    "pycharm": {
     "name": "#%%\n"
    }
   },
   "outputs": [],
   "source": [
    "import re\n",
    "\n",
    "import numpy as np\n",
    "import pandas as pd\n",
    "from matplotlib import pyplot as plt\n",
    "from nltk.corpus import stopwords\n",
    "from nltk.sentiment import SentimentIntensityAnalyzer\n",
    "from sklearn.feature_extraction.text import TfidfVectorizer\n",
    "from sklearn.linear_model import LogisticRegression\n",
    "from sklearn.metrics import confusion_matrix, recall_score, precision_score, accuracy_score\n",
    "from sklearn.model_selection import train_test_split\n",
    "from sklearn.preprocessing import scale\n",
    "from sklearn.svm import SVC\n",
    "from sklearn.tree import DecisionTreeClassifier\n",
    "import seaborn as sns\n",
    "\n",
    "from preprocessing import get_df"
   ]
  },
  {
   "cell_type": "code",
   "execution_count": 3,
   "outputs": [],
   "source": [
    "def add_features(dataframe: pd.DataFrame):\n",
    "    sia = SentimentIntensityAnalyzer()\n",
    "\n",
    "    stopwords_english = stopwords.words('english')\n",
    "    vectorizer = TfidfVectorizer(stop_words=stopwords_english)\n",
    "    analyzer = vectorizer.build_analyzer()\n",
    "\n",
    "    def calculate_number_of_stopwords(text):\n",
    "        return 1 - len(analyzer(text)) / len(text.split())\n",
    "\n",
    "    # соотношение количества знаков пунктуации к длине текста\n",
    "    def calculate_number_of_punctuation(text):\n",
    "        number_of_punctuation = len(re.findall(r'[^\\w\\s]', text))\n",
    "        return number_of_punctuation / len(text)\n",
    "\n",
    "    def calculate_sentiment(text):\n",
    "        return sia.polarity_scores(text)['compound']\n",
    "\n",
    "    dataframe = dataframe.copy(deep=True)\n",
    "    dataframe['number_of_stopwords'] = dataframe['text'].apply(calculate_number_of_stopwords)\n",
    "    dataframe['number_of_punctuation'] = dataframe['text'].apply(calculate_number_of_punctuation)\n",
    "    dataframe['sentiment'] = dataframe['text'].apply(calculate_sentiment)\n",
    "\n",
    "    return dataframe\n",
    "\n",
    "def plot_confusion_matrix(prediction, target):\n",
    "    cm = confusion_matrix(target, prediction)\n",
    "    f, ax = plt.subplots(figsize =(5,5))\n",
    "    sns.heatmap(cm,annot = True, linewidths=0.5, linecolor=\"red\", fmt = \".0f\", ax=ax)\n",
    "    plt.xlabel(\"predicted\")\n",
    "    plt.ylabel(\"actual\")\n",
    "    plt.show()\n",
    "\n",
    "def split_dataset_train_model_estimate_accuracy(data, target):\n",
    "    train_x, test_x, train_y, test_y = train_test_split(data, target, test_size=0.2, random_state=42)\n",
    "\n",
    "    for modelClass, name in zip(\n",
    "        [SVC, DecisionTreeClassifier, LogisticRegression],\n",
    "        ['SVC', 'DecisionTreeClassifier', 'LogisticRegression']\n",
    "    ):\n",
    "        model = modelClass()\n",
    "        model.fit(train_x, train_y)\n",
    "        prediction = model.predict(test_x)\n",
    "\n",
    "        print(\n",
    "            name,\n",
    "            'accuracy:', accuracy_score(test_y, prediction),\n",
    "            'precision:', precision_score(test_y, prediction),\n",
    "            'recall:', recall_score(test_y, prediction)\n",
    "        )\n",
    "\n",
    "        # строим график только для SVC модели, так как точность у моделей примерно одинаковая\n",
    "        if name == 'SVC':\n",
    "            # для примера строим confusion matrix\n",
    "            plot_confusion_matrix(prediction, test_y)"
   ],
   "metadata": {
    "collapsed": false,
    "pycharm": {
     "name": "#%%\n"
    }
   }
  },
  {
   "cell_type": "code",
   "execution_count": 4,
   "outputs": [],
   "source": [
    "def test_models_without_additional_features():\n",
    "    df = get_df()\n",
    "\n",
    "    vectorizer = TfidfVectorizer(stop_words=stopwords.words('english'))\n",
    "    vectors = vectorizer.fit_transform(df['text'])\n",
    "\n",
    "    data = vectors.toarray()\n",
    "    target = df['category']\n",
    "\n",
    "    split_dataset_train_model_estimate_accuracy(data, target)"
   ],
   "metadata": {
    "collapsed": false,
    "pycharm": {
     "name": "#%%\n"
    }
   }
  },
  {
   "cell_type": "code",
   "execution_count": 5,
   "outputs": [
    {
     "name": "stdout",
     "output_type": "stream",
     "text": [
      "SVC accuracy: 0.9739910313901345 precision: 1.0 recall: 0.8066666666666666\n"
     ]
    },
    {
     "data": {
      "text/plain": "<Figure size 360x360 with 2 Axes>",
      "image/png": "[encoded data removed]"
     },
     "metadata": {},
     "output_type": "display_data"
    },
    {
     "name": "stdout",
     "output_type": "stream",
     "text": [
      "DecisionTreeClassifier accuracy: 0.967713004484305 precision: 0.8958333333333334 recall: 0.86\n",
      "LogisticRegression accuracy: 0.9533632286995516 precision: 0.99 recall: 0.66\n"
     ]
    }
   ],
   "source": [
    "test_models_without_additional_features()"
   ],
   "metadata": {
    "collapsed": false,
    "pycharm": {
     "name": "#%%\n"
    }
   }
  },
  {
   "cell_type": "code",
   "execution_count": 6,
   "outputs": [],
   "source": [
    "def test_models_with_additional_features():\n",
    "    df = get_df()\n",
    "    df = add_features(df)\n",
    "\n",
    "    vectorizer = TfidfVectorizer(stop_words=stopwords.words('english'))\n",
    "    vectors = vectorizer.fit_transform(df['text'])\n",
    "\n",
    "    additional_data = scale(df[['number_of_stopwords', 'number_of_punctuation', 'sentiment']].values)\n",
    "    data = np.append(additional_data, vectors.toarray(), axis=1)\n",
    "    target = df['category']\n",
    "\n",
    "    split_dataset_train_model_estimate_accuracy(data, target)"
   ],
   "metadata": {
    "collapsed": false,
    "pycharm": {
     "name": "#%%\n"
    }
   }
  },
  {
   "cell_type": "code",
   "execution_count": 7,
   "outputs": [
    {
     "name": "stdout",
     "output_type": "stream",
     "text": [
      "SVC accuracy: 0.967713004484305 precision: 0.9913793103448276 recall: 0.7666666666666667\n"
     ]
    },
    {
     "data": {
      "text/plain": "<Figure size 360x360 with 2 Axes>",
      "image/png": "[encoded data removed]"
     },
     "metadata": {},
     "output_type": "display_data"
    },
    {
     "name": "stdout",
     "output_type": "stream",
     "text": [
      "DecisionTreeClassifier accuracy: 0.9623318385650225 precision: 0.8648648648648649 recall: 0.8533333333333334\n",
      "LogisticRegression accuracy: 0.95695067264574 precision: 0.9903846153846154 recall: 0.6866666666666666\n"
     ]
    }
   ],
   "source": [
    "test_models_with_additional_features()"
   ],
   "metadata": {
    "collapsed": false,
    "pycharm": {
     "name": "#%%\n"
    }
   }
  },
  {
   "cell_type": "markdown",
   "source": [
    "Разница в пределах статистической погрешности, возможные причины:\n",
    "1. слишком мало данных\n",
    "2. некорректные модели для подобных данных\n",
    "3. некорректно сформированы признаки\n",
    "4. сформированных векторов и так полностью достаточно для определения категории\n",
    "\n",
    "Также нужно отметить, что в данных присутствует дисбаланс (ham гораздо больше, чем spam)"
   ],
   "metadata": {
    "collapsed": false,
    "pycharm": {
     "name": "#%% md\n"
    }
   }
  },
  {
   "cell_type": "code",
   "execution_count": 8,
   "outputs": [],
   "source": [
    "def test_models_with_only_additional_features():\n",
    "    df = get_df()\n",
    "    df = add_features(df)\n",
    "\n",
    "    additional_data = scale(df[['number_of_stopwords', 'number_of_punctuation', 'sentiment']].values)\n",
    "    data = additional_data\n",
    "    target = df['category']\n",
    "\n",
    "    split_dataset_train_model_estimate_accuracy(data, target)"
   ],
   "metadata": {
    "collapsed": false,
    "pycharm": {
     "name": "#%%\n"
    }
   }
  },
  {
   "cell_type": "code",
   "execution_count": 9,
   "outputs": [
    {
     "name": "stdout",
     "output_type": "stream",
     "text": [
      "SVC accuracy: 0.8780269058295964 precision: 0.6166666666666667 recall: 0.24666666666666667\n"
     ]
    },
    {
     "data": {
      "text/plain": "<Figure size 360x360 with 2 Axes>",
      "image/png": "[encoded data removed]"
     },
     "metadata": {},
     "output_type": "display_data"
    },
    {
     "name": "stdout",
     "output_type": "stream",
     "text": [
      "DecisionTreeClassifier accuracy: 0.885201793721973 precision: 0.5797101449275363 recall: 0.5333333333333333\n",
      "LogisticRegression accuracy: 0.8609865470852018 precision: 0.2222222222222222 recall: 0.013333333333333334\n"
     ]
    }
   ],
   "source": [
    "test_models_with_only_additional_features()"
   ],
   "metadata": {
    "collapsed": false,
    "pycharm": {
     "name": "#%%\n"
    }
   }
  },
  {
   "cell_type": "markdown",
   "source": [
    "Судя по recall/precision, модель просто определяет все как ham, что дает высокую точность, так как ham в датасете гораздо больше, чем spam. Если бы они были сбалансированы, то точность не превышала бы 50-55 процентов\n"
   ],
   "metadata": {
    "collapsed": false,
    "pycharm": {
     "name": "#%% md\n"
    }
   }
  },
  {
   "cell_type": "code",
   "execution_count": null,
   "outputs": [],
   "source": [],
   "metadata": {
    "collapsed": false,
    "pycharm": {
     "name": "#%%\n"
    }
   }
  }
 ],
 "metadata": {
  "kernelspec": {
   "display_name": "Python 3",
   "language": "python",
   "name": "python3"
  },
  "language_info": {
   "codemirror_mode": {
    "name": "ipython",
    "version": 2
   },
   "file_extension": ".py",
   "mimetype": "text/x-python",
   "name": "python",
   "nbconvert_exporter": "python",
   "pygments_lexer": "ipython2",
   "version": "2.7.6"
  }
 },
 "nbformat": 4,
 "nbformat_minor": 0
}