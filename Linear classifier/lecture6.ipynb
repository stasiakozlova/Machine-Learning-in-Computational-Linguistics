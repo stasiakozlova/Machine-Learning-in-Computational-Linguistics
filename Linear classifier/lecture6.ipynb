{
 "cells": [
  {
   "cell_type": "markdown",
   "id": "7bb01aef",
   "metadata": {
    "slideshow": {
     "slide_type": "slide"
    }
   },
   "source": [
    "## Линейная классификация"
   ]
  },
  {
   "cell_type": "markdown",
   "id": "1ff81627",
   "metadata": {
    "slideshow": {
     "slide_type": "fragment"
    }
   },
   "source": [
    "Зачем нужны линейные классификаторы?\n",
    "\n",
    "Легкость, интерпретируемость, тест на линейную разделимость данных"
   ]
  },
  {
   "cell_type": "markdown",
   "id": "c7dd0b2b",
   "metadata": {
    "slideshow": {
     "slide_type": "slide"
    }
   },
   "source": [
    "Поговорим о задаче бинарной классификации.\n",
    "\n",
    "1 или 0"
   ]
  },
  {
   "cell_type": "markdown",
   "id": "40c4eb7e",
   "metadata": {
    "slideshow": {
     "slide_type": "slide"
    }
   },
   "source": [
    "### Перцептрон\n",
    "\n",
    "1. Используется только в случаях, когда данные линейно разделимы\n",
    "2. Задаётся парметрами: \n",
    "\n",
    "$\\eta$  <-- темп обучения (learning rate)\n",
    "\n",
    "$w$  <-- коэффициенты модели\n",
    "\n",
    "![linear_sep](https://production-media.paperswithcode.com/tasks/classification-algorithm-in-machine-learning_ta1IkVQ.png)"
   ]
  },
  {
   "cell_type": "markdown",
   "id": "cc9903d7",
   "metadata": {
    "slideshow": {
     "slide_type": "subslide"
    }
   },
   "source": [
    "$w = (w_0, w_1, w_2)$\n",
    "\n",
    "$x = (1, x_1, x_2)$\n",
    "\n",
    "$w_0$ - обязательная константа"
   ]
  },
  {
   "cell_type": "markdown",
   "id": "55abc0f7",
   "metadata": {
    "slideshow": {
     "slide_type": "subslide"
    }
   },
   "source": [
    "$f(z) = \\left\\{ \\begin{array}{rcl}\n",
    "1 & if w\\cdot x > 0\\\\ \n",
    "0 & otherwise\n",
    "\\end{array}\\right.$"
   ]
  },
  {
   "cell_type": "markdown",
   "id": "1aca36d2",
   "metadata": {
    "slideshow": {
     "slide_type": "subslide"
    }
   },
   "source": [
    "$w = (0, 1, 0.5)$\n",
    "\n",
    "$x = (x_0, x_1, x_2)$\n",
    "\n",
    "$\\left[ \\begin{array}{c}\n",
    "0 * x_0 + \\\\\n",
    "1 * x_1 + \\\\\n",
    "0.5 * x_2 \\end{array} \\right]  > 0\n",
    "$\n",
    "\n",
    "$1 + x_1 + 0.5x_2 > 0$\n",
    "\n",
    "$x_2 > -2x_1$"
   ]
  },
  {
   "cell_type": "markdown",
   "id": "6cad7794",
   "metadata": {
    "slideshow": {
     "slide_type": "slide"
    }
   },
   "source": [
    "![a](https://i.ibb.co/TBNK0Ns/1.jpg)"
   ]
  },
  {
   "cell_type": "markdown",
   "id": "d7deb6d6",
   "metadata": {
    "slideshow": {
     "slide_type": "subslide"
    }
   },
   "source": [
    "$x_2 > -2x_1$\n",
    "\n",
    "![image.png](https://i.ibb.co/RTkxnp1/2.jpg)"
   ]
  },
  {
   "cell_type": "markdown",
   "id": "146e12ff",
   "metadata": {
    "slideshow": {
     "slide_type": "slide"
    }
   },
   "source": [
    "### Шаг обновления в перцептроне\n",
    "\n",
    "Для неверно определенного примера $x_i$\n",
    "\n",
    "$w_j' = w_j - \\eta d x_{ij}$\n",
    "\n",
    "$d = \\left\\{ \\begin{array}{rcl}\n",
    "1 &  (если)ответ = 1 \\\\ \n",
    "-1 & (если)ответ = 0\n",
    "\\end{array}\\right.$"
   ]
  },
  {
   "cell_type": "markdown",
   "id": "3cd4a6d6",
   "metadata": {
    "slideshow": {
     "slide_type": "slide"
    }
   },
   "source": [
    "![](https://www.cs.cornell.edu/courses/cs4780/2018fa/lectures/images/perceptron/perceptron_algo.png)"
   ]
  },
  {
   "cell_type": "markdown",
   "id": "7b5e4077",
   "metadata": {
    "slideshow": {
     "slide_type": "slide"
    }
   },
   "source": [
    "![image.png](https://i.ibb.co/Vmk00sR/image.png)"
   ]
  },
  {
   "cell_type": "markdown",
   "id": "b0ff4f03",
   "metadata": {
    "slideshow": {
     "slide_type": "subslide"
    }
   },
   "source": [
    "\n",
    "[Ссылка на дополнительные пояснения Перцептрона](https://www.cs.cornell.edu/courses/cs4780/2018fa/lectures/lecturenote03.html)"
   ]
  },
  {
   "cell_type": "markdown",
   "id": "a284d4d2",
   "metadata": {
    "slideshow": {
     "slide_type": "slide"
    }
   },
   "source": [
    "А что если мы хотим оценить вероятность наступления некоторого события?"
   ]
  },
  {
   "cell_type": "markdown",
   "id": "0115f848",
   "metadata": {
    "slideshow": {
     "slide_type": "slide"
    }
   },
   "source": [
    "## Логистическая регрессия"
   ]
  },
  {
   "cell_type": "markdown",
   "id": "d00de37f",
   "metadata": {
    "slideshow": {
     "slide_type": "slide"
    }
   },
   "source": [
    "### Понятие логита\n",
    "\n",
    "Пн  --> дождь\n",
    "\n",
    "Вт  --> не дождь\n",
    "\n",
    "Ср  --> не дождь\n",
    "\n",
    "Чт  --> дождь\n",
    "\n",
    "Пт  --> не дождь\n",
    "\n",
    "Cб  --> не дождь\n",
    "\n",
    "_____________________\n",
    "\n",
    "Коэффициент (odds) наступления дождя:\n",
    "\n",
    "$ 2 / 4 = 0.5 $\n",
    "\n",
    "Вероятность (probability) наступления дождя\n",
    "\n",
    "$ 2 / 6 = 0.3 $"
   ]
  },
  {
   "cell_type": "markdown",
   "id": "539991c0",
   "metadata": {
    "slideshow": {
     "slide_type": "slide"
    }
   },
   "source": [
    "Пн  --> дождь\n",
    "\n",
    "Вт  --> дождь\n",
    "\n",
    "Ср  --> дождь\n",
    "\n",
    "Чт  --> дождь\n",
    "\n",
    "Пт  --> дождь\n",
    "\n",
    "Cб  --> не дождь\n",
    "\n",
    "_____________________\n",
    "\n",
    "Коэффициент (odds) наступления дождя:\n",
    "\n",
    "$\\frac{5}{1} = 5 $\n",
    "\n",
    "Вероятность (probability) наступления дождя\n",
    "\n",
    "$\\frac{5}{6} = 0.83 $"
   ]
  },
  {
   "cell_type": "markdown",
   "id": "98bee1f4",
   "metadata": {
    "slideshow": {
     "slide_type": "slide"
    }
   },
   "source": [
    "Можно высчитать коэфициент из вероятности\n",
    "\n",
    "Отношение вероятности положительного исхода к отрицательному  = коэфициент\n",
    "\n",
    "Вероятность наступления дождя\n",
    "\n",
    "$\\frac{5}{6} = 0.83 $\n",
    "\n",
    "Вероятность НЕнаступления дождя\n",
    "\n",
    "$ \\frac{1}{6} = 0.17 $\n",
    "\n",
    "$ \\frac{0.83}{0.17} = 5$ (коэфициент)"
   ]
  },
  {
   "cell_type": "markdown",
   "id": "32684f10",
   "metadata": {
    "slideshow": {
     "slide_type": "subslide"
    }
   },
   "source": [
    "Альтернативный способ записи расчета коэфициента\n",
    "\n",
    "$\\frac{p}{1 - p}$\n",
    "\n",
    "Где $p$ - вероятность положительного исхода"
   ]
  },
  {
   "cell_type": "markdown",
   "id": "06781a1f",
   "metadata": {
    "slideshow": {
     "slide_type": "subslide"
    }
   },
   "source": [
    "Попробуем расчитать коэфициенты на большей выборке.\n",
    "\n",
    "Если месяц не дождливый, то коэфициент, например:\n",
    "\n",
    "$\\frac{1}{31} = 0.03$\n",
    "\n",
    "$\\frac{7}{31} = 0.225$"
   ]
  },
  {
   "cell_type": "markdown",
   "id": "9171eca8",
   "metadata": {
    "slideshow": {
     "slide_type": "subslide"
    }
   },
   "source": [
    "Попробуем расчитать коэфициенты на большей выборке.\n",
    "\n",
    "Если месяц не дождливый, то коэфициент, например:\n",
    "\n",
    "$\\frac{16}{14} = 1.06$\n",
    "\n",
    "$\\frac{25}{6} = 4.16$\n",
    "\n",
    "$\\frac{30}{1} = 30$"
   ]
  },
  {
   "cell_type": "markdown",
   "id": "04a7d98d",
   "metadata": {
    "slideshow": {
     "slide_type": "subslide"
    }
   },
   "source": [
    "![magnitude odds](https://i.ibb.co/NZSTQ3w/image.png)"
   ]
  },
  {
   "cell_type": "markdown",
   "id": "0732321c",
   "metadata": {
    "slideshow": {
     "slide_type": "slide"
    }
   },
   "source": [
    "Взятие логарифма $log(odds)$ решает проблему, приводя масштаб коэфициентов к одному уровню\n",
    "\n",
    "![image.png](https://i.ibb.co/ZWyvS6v/image.png)"
   ]
  },
  {
   "cell_type": "markdown",
   "id": "b657aeb7",
   "metadata": {
    "slideshow": {
     "slide_type": "slide"
    }
   },
   "source": [
    "$log(\\frac{p}{1 - p})$ <-- логит. формирует основу логистической регрессии"
   ]
  },
  {
   "cell_type": "markdown",
   "id": "2d46aabf",
   "metadata": {
    "slideshow": {
     "slide_type": "slide"
    }
   },
   "source": [
    "# Логистическая регрессия\n",
    "\n",
    "![](https://i.ibb.co/4mcXCRr/image.png)"
   ]
  },
  {
   "cell_type": "markdown",
   "id": "ac038bc8",
   "metadata": {
    "slideshow": {
     "slide_type": "slide"
    }
   },
   "source": [
    "![](https://i.ibb.co/g4S7JZD/image.png)"
   ]
  },
  {
   "cell_type": "markdown",
   "id": "60d22d18",
   "metadata": {
    "slideshow": {
     "slide_type": "slide"
    }
   },
   "source": [
    "![](https://i.ibb.co/jTN0mYX/image.png)"
   ]
  },
  {
   "cell_type": "markdown",
   "id": "2486b27e",
   "metadata": {
    "slideshow": {
     "slide_type": "slide"
    }
   },
   "source": [
    "Сигмоида (логит - преобразование)\n",
    "\n",
    "$\\sigma(x) = \\frac{1}{1+e^{-x}}$\n",
    "\n",
    "x -- стандартное уравнение регрессии\n",
    "\n",
    "$\\sigma(x)$ -- вероятность наступления события\n",
    "\n",
    "$e$ - основание натурального логарифма"
   ]
  },
  {
   "cell_type": "markdown",
   "id": "0c48034d",
   "metadata": {
    "slideshow": {
     "slide_type": "slide"
    }
   },
   "source": [
    "Результат - логистическая кривая.\n",
    "Зависимость, связывающая вероятность события и некоторую величину.\n",
    "\n",
    "\n",
    "![asd](https://www.researchgate.net/publication/236908607/figure/fig1/AS:601626985381906@1520450459171/Graph-of-logistic-curve-where-a-0-and-b-1.png)"
   ]
  },
  {
   "cell_type": "markdown",
   "id": "a716bbe6",
   "metadata": {
    "slideshow": {
     "slide_type": "slide"
    }
   },
   "source": [
    "$y_i = \\beta_0 + \\beta_1x_1 + \\beta_2x_2 ... \\beta_px_p$  <--- уравнение линейной регресии"
   ]
  },
  {
   "cell_type": "markdown",
   "id": "455f9b3a",
   "metadata": {
    "slideshow": {
     "slide_type": "subslide"
    }
   },
   "source": [
    "$P(y_i = 1) = \\frac{1}{1+exp(\\beta_0 + \\beta_1x_1 + \\beta_2x_2 ... \\beta_px_p)}$  <--- преобразованное уравнение логистической регрессии"
   ]
  },
  {
   "cell_type": "markdown",
   "id": "a7d6b701",
   "metadata": {
    "slideshow": {
     "slide_type": "slide"
    }
   },
   "source": [
    "### Функция правдоподобия\n",
    "\n",
    "$P(\\theta) = P(x = X | \\theta)$  -> maximum likelihood"
   ]
  },
  {
   "cell_type": "markdown",
   "id": "f239883a",
   "metadata": {
    "slideshow": {
     "slide_type": "subslide"
    }
   },
   "source": [
    "$$\n",
    "Q'(X, w) = -\\frac{1}{\\ell} \\sum_{i=1}^{\\ell} [y_i = 1]\\log\\sigma(\\langle x_i, w \\rangle) + [y_i = -1](1 - \\log(\\sigma(\\langle x_i, w \\rangle))\n",
    "$$\n"
   ]
  },
  {
   "cell_type": "markdown",
   "id": "e67e96b4",
   "metadata": {
    "slideshow": {
     "slide_type": "subslide"
    }
   },
   "source": [
    "$ Q'(X, w) -> min $\n",
    "\n",
    "[Метод Ньютона](https://wiki.loginom.ru/articles/newton-method.html)"
   ]
  },
  {
   "cell_type": "markdown",
   "id": "3f72d65b",
   "metadata": {
    "slideshow": {
     "slide_type": "subslide"
    }
   },
   "source": [
    "![нейросеть](https://loginom.ru/sites/default/files/blogpost-files/pic2-logist-neural.svg)"
   ]
  },
  {
   "cell_type": "code",
   "execution_count": null,
   "id": "2f3aa659",
   "metadata": {},
   "outputs": [],
   "source": []
  }
 ],
 "metadata": {
  "celltoolbar": "Slideshow",
  "kernelspec": {
   "display_name": "Python 3 (ipykernel)",
   "language": "python",
   "name": "python3"
  },
  "language_info": {
   "codemirror_mode": {
    "name": "ipython",
    "version": 3
   },
   "file_extension": ".py",
   "mimetype": "text/x-python",
   "name": "python",
   "nbconvert_exporter": "python",
   "pygments_lexer": "ipython3",
   "version": "3.8.10"
  }
 },
 "nbformat": 4,
 "nbformat_minor": 5
}
