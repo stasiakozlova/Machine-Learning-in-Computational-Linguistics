{
 "cells": [
  {
   "cell_type": "code",
   "execution_count": 2,
   "id": "36902a66",
   "metadata": {},
   "outputs": [],
   "source": [
    "import matplotlib.pyplot as plt\n",
    "from sklearn.datasets import make_blobs\n",
    "import numpy as np\n",
    "\n"
   ]
  },
  {
   "cell_type": "markdown",
   "id": "82bd2468",
   "metadata": {},
   "source": [
    "__Функция активации перцептрона__\n",
    "\n",
    "$f(z) = \\left\\{ \\begin{array}{rcl}\n",
    "1 & if w\\cdot x > 0\\\\ \n",
    "0 & otherwise\n",
    "\\end{array}\\right.$\n",
    "\n",
    "\n",
    "__Градиент перцептрона__\n",
    "\n",
    "Для каждого неверно определенного примера $x_i$\n",
    "\n",
    "$w_j' = w_j - \\eta d x_{ij}$\n",
    "\n",
    "$d = \\left\\{ \\begin{array}{rcl}\n",
    "1 &  (если)ответ = 1 \\\\ \n",
    "-1 & (если)ответ = 0\n",
    "\\end{array}\\right.$\n",
    "\n",
    "\n",
    "[Ссылка на дополнительные пояснения](https://www.cs.cornell.edu/courses/cs4780/2018fa/lectures/lecturenote03.html)"
   ]
  },
  {
   "cell_type": "code",
   "execution_count": 3,
   "id": "7a02282e",
   "metadata": {},
   "outputs": [],
   "source": [
    "X, y = make_blobs(n_samples=100, centers=2, n_features=2, center_box=(0, 10), random_state=42)"
   ]
  },
  {
   "cell_type": "code",
   "execution_count": null,
   "id": "7f083eb3",
   "metadata": {},
   "outputs": [],
   "source": [
    "plt.figure(figsize=(15,10))\n",
    "scatter = plt.scatter(X[:,0], X[:,1], c=y)\n",
    "plt.legend(handles=scatter.legend_elements()[0], labels=[0,1]);"
   ]
  },
  {
   "cell_type": "code",
   "execution_count": null,
   "id": "a83c77cf",
   "metadata": {},
   "outputs": [],
   "source": [
    "# Задание 1: реализовать обучение алгоритма \"перцептрон\"\n",
    "\n",
    "class Perceptron:\n",
    "    \n",
    "    def __init__(self, lr=1e5):\n",
    "        self.lr = lr\n",
    "    \n",
    "    def fit(self, x_train, y_train):\n",
    "        \n",
    "        # Инициализация весов нулями\n",
    "        self.w = np.zeros((x_train.shape[1]+1, 1))\n",
    "        \n",
    "        # Добавление константного признака, чтобы не расчитывать отдельно bias\n",
    "        x_train = np.hstack((np.ones((x_train.shape[0], 1)), x_train))\n",
    "        \n",
    "        while True:\n",
    "            # 1. Скалярное произведение матрицы весов и примера\n",
    "            # 2. Линейное разделение (>0 or <=0)\n",
    "            # 3. Корректировка весов для каждого неправильного примера\n",
    "            # 4. Если некорректных примеров не было: остановка\n",
    "            pass\n",
    "    \n",
    "    def predict(self, x):\n",
    "        # Должно работать на batch любого размера (то есть, можно подать несколько примеров сразу)\n",
    "        pass"
   ]
  },
  {
   "cell_type": "code",
   "execution_count": null,
   "id": "0e312822",
   "metadata": {},
   "outputs": [],
   "source": [
    "model = Perceptron()\n",
    "model.fit(X, y)"
   ]
  },
  {
   "cell_type": "code",
   "execution_count": null,
   "id": "f9b42264",
   "metadata": {},
   "outputs": [],
   "source": [
    "# Выводим результат работы перцептрона, должна получится разделяющая поверхность\n",
    "\n",
    "plt.figure(figsize=(15,10))\n",
    "scatter = plt.scatter(X[:,0], X[:,1], c=y)\n",
    "plt.legend(handles=scatter.legend_elements()[0], labels=[0,1]);\n",
    "\n",
    "x1 = [min(X[:, 0]), max(X[:, 0])]\n",
    "k = -model.w[1]/model.w[2]\n",
    "b = -model.w[0]/model.w[2]\n",
    "x2 = k*x1 + b\n",
    "\n",
    "plt.plot(x1, x2, 'y-')"
   ]
  },
  {
   "cell_type": "markdown",
   "id": "d22a6111",
   "metadata": {},
   "source": [
    "__Задание 2: изучить [материалы](https://github.com/esokolov/ml-course-hse/blob/master/2021-fall/seminars/sem04-features.ipynb)__"
   ]
  },
  {
   "cell_type": "markdown",
   "id": "e871822a",
   "metadata": {},
   "source": [
    "__Задание 3: на основе изученного провести исследовательский анализ данных и построить модель логистической регрессии с помощью Sklearn__\n",
    "\n",
    "[Данные](https://archive.ics.uci.edu/ml/datasets/Connectionist+Bench+(Sonar,+Mines+vs.+Rocks))"
   ]
  },
  {
   "cell_type": "code",
   "execution_count": null,
   "id": "5f865040",
   "metadata": {},
   "outputs": [],
   "source": []
  }
 ],
 "metadata": {
  "kernelspec": {
   "display_name": "Python 3 (ipykernel)",
   "language": "python",
   "name": "python3"
  },
  "language_info": {
   "codemirror_mode": {
    "name": "ipython",
    "version": 3
   },
   "file_extension": ".py",
   "mimetype": "text/x-python",
   "name": "python",
   "nbconvert_exporter": "python",
   "pygments_lexer": "ipython3",
   "version": "3.8.10"
  }
 },
 "nbformat": 4,
 "nbformat_minor": 5
}
