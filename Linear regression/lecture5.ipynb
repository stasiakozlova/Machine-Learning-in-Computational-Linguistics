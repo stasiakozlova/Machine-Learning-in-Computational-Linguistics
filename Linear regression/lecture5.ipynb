{
 "cells": [
  {
   "cell_type": "markdown",
   "id": "ef2c6def",
   "metadata": {
    "slideshow": {
     "slide_type": "slide"
    }
   },
   "source": [
    "# Линейная регрессия\n",
    "\n",
    "Задача: линейная регрессия \n",
    "Ответ: линейная функция от данных\n",
    "\n",
    "$$y = w_1 x_1 + \\ldots + w_m x_m = \\langle x, w\\rangle,$$\n",
    "\n",
    "* Здесь $\\langle\\cdot, \\cdot\\rangle$ — скалярное произведение.\n",
    "* $w_i$ — вес i-ого признака в модели линейной регрессии. \n",
    "    * $w=(w_1, \\ldots, w_m)$ — вектор весов признаков.\n",
    "* $x_i$ — значение i-ого признака во входном $x$ "
   ]
  },
  {
   "cell_type": "markdown",
   "id": "937dc410",
   "metadata": {
    "slideshow": {
     "slide_type": "slide"
    }
   },
   "source": [
    "Один из способов решения задачи поиска оптимальных весов: метод наименьших квадратов.\n",
    "\n",
    "При использовании этого метода минимизируется *квадратичная функция потерь*:\n",
    "\n",
    "$$Q(w) = \\sum_{j=1}^n Q_j(w) = \\sum_{j=1}^n ( \\langle x^j, w\\rangle - y^j)^2$$\n",
    "\n",
    "Здесь $n$ — число элементов в обучающей выборке.\n",
    "\n",
    "Явная формула для вектора весов (решает задачу минимизации):\n",
    "\n",
    "$$w = (X^T X)^{-1} X^T y,$$\n",
    "\n",
    "где $X$ — матрица объект-признак (по строкам объекты, по столбцам признаки), $y$ — вектор правильных ответов."
   ]
  },
  {
   "cell_type": "markdown",
   "id": "9bce13cb",
   "metadata": {
    "slideshow": {
     "slide_type": "slide"
    }
   },
   "source": [
    "Ограничения формулы:\n",
    "\n",
    "1. Используется «дорогая» операция — обращение матрицы размером $d\\times d$, где $d$ — количество признаков. Она занимает $O(d^3)$ операций, и если $d$ большое, может быть довольно медленной.\n",
    "\n",
    "2. Работает исходя из минимизации квадратичной функции потерь. Если мы захотим использовать другую формулу потерь, она не работает.\n",
    "\n",
    "Вместо использования явной формулы можно предложить другой подход — минимизация $Q$ с помощью итеративных методов.\n",
    "\n",
    "Простейшим из них является метод градиентного спуска. "
   ]
  },
  {
   "cell_type": "markdown",
   "id": "2cc44f15",
   "metadata": {
    "slideshow": {
     "slide_type": "slide"
    }
   },
   "source": [
    "## Градиентный спуск (gradient descent)\n",
    "\n",
    "Рассмотрим функцию $f(x, y)=x^2 + 10 y^2$. Её градиент равен $\\nabla f(x, y)=\\frac{\\partial f(x, y)}{\\partial(x, y)}=(2x, 20y)$.\n",
    "\n",
    "[Тут](https://www.matematicus.ru/vysshaya-matematika/proizvodnaya/gradient-funktsii-neskolkih-peremennyh) повторение, как найти градиент функции многих переменных.\n",
    "\n",
    "[Тут](http://mathprofi.ru/chastnye_proizvodnye_primery.html) повторение поиска производной функции первого порядка\n",
    "\n",
    "\n",
    "Градиент показывает направление наискорейшего роста функции, то есть отвечает на вопрос «куда нам идти, если мы находимся в точке $(x, y)$ и хотим увеличивать значение функции как можно быстрее».\n",
    "\n",
    "Чтобы уменьшать значение функции, нужно идти в противоположном направлении. В связи с этим, напрашивается такой алгоритм нахождения минимума функции $f$:\n",
    "\n",
    "1. Возьмём любую точку $(x_0, y_0)$. Посчитаем градиент в этой точке.\n",
    "\n",
    "2. Для каждого $i=1, \\ldots$, положим: $(x_{i+1}, y_{i+1})=(x_i, y_i) - \\eta \\nabla f(x_i, y_i)$, где $\\eta$ — какое-то число (небольшое).\n",
    "\n",
    "3. Будем продолжать вычислять очередную точку $(x_i, y_i)$ до тех пор, пока мы не окажемся достаточно близко к минимуму — например, до тех пор, пока градиент не слишком маленький."
   ]
  },
  {
   "cell_type": "code",
   "execution_count": 1,
   "id": "bdd8cd75",
   "metadata": {},
   "outputs": [],
   "source": [
    "import numpy as np\n",
    "from scipy.linalg import norm"
   ]
  },
  {
   "cell_type": "code",
   "execution_count": 2,
   "id": "d5845154",
   "metadata": {
    "slideshow": {
     "slide_type": "slide"
    }
   },
   "outputs": [],
   "source": [
    "def f(x, y):\n",
    "    return np.array(x**2 + 10*y**2)\n",
    "\n",
    "def d_f(x, y):\n",
    "    return np.array([2*x, 20*y])"
   ]
  },
  {
   "cell_type": "code",
   "execution_count": 4,
   "id": "d442daeb",
   "metadata": {
    "slideshow": {
     "slide_type": "subslide"
    }
   },
   "outputs": [],
   "source": [
    "eta = 0.01\n",
    "steps = 20000\n",
    "x, y = -3, 3 # starting points"
   ]
  },
  {
   "cell_type": "code",
   "execution_count": 62,
   "id": "982b6d82",
   "metadata": {
    "slideshow": {
     "slide_type": "subslide"
    }
   },
   "outputs": [],
   "source": [
    "eta = 0.01\n",
    "x, y = -3, 3\n",
    "u_prev = np.array([x, y]) # положим точки в массив для векторизации операций\n",
    "\n",
    "points = [] # общий путь\n",
    "for _ in range(steps):\n",
    "    \n",
    "    points.append(u_prev)\n",
    "    \n",
    "    u_new = u_prev - eta * d_f(*u_prev) # вычисление новых точек\n",
    "    \n",
    "    u_prev = u_new"
   ]
  },
  {
   "cell_type": "code",
   "execution_count": 63,
   "id": "63e43dc4",
   "metadata": {
    "slideshow": {
     "slide_type": "subslide"
    }
   },
   "outputs": [
    {
     "data": {
      "text/plain": [
       "array([-1.01720627e-175,  9.88131292e-324])"
      ]
     },
     "execution_count": 63,
     "metadata": {},
     "output_type": "execute_result"
    }
   ],
   "source": [
    "points[-1]"
   ]
  },
  {
   "cell_type": "code",
   "execution_count": 64,
   "id": "f4ec1c70",
   "metadata": {
    "slideshow": {
     "slide_type": "subslide"
    }
   },
   "outputs": [
    {
     "data": {
      "image/png": "[encoded data removed]",
      "text/plain": [
       "<Figure size 720x360 with 1 Axes>"
      ]
     },
     "metadata": {
      "needs_background": "light"
     },
     "output_type": "display_data"
    }
   ],
   "source": [
    "plt.figure(figsize=(10,5))\n",
    "plt.plot([p[0] for p in points], [p[1] for p in points], 'o-');"
   ]
  },
  {
   "cell_type": "code",
   "execution_count": 65,
   "id": "ed77fa76",
   "metadata": {
    "slideshow": {
     "slide_type": "slide"
    }
   },
   "outputs": [
    {
     "name": "stdout",
     "output_type": "stream",
     "text": [
      "1002\n"
     ]
    }
   ],
   "source": [
    "# Досрочная остановка\n",
    "\n",
    "eta = 0.01\n",
    "x, y = -3, 3\n",
    "u_prev = np.array([x, y]) # положим точки в массив для векторизации операций\n",
    "\n",
    "points = [] # общий путь\n",
    "for _ in range(steps):\n",
    "    \n",
    "    points.append(u_prev)\n",
    "    \n",
    "    u_new = u_prev - eta * d_f(*u_prev) # вычисление новых точек\n",
    "    \n",
    "    if norm(u_new - u_prev) < 1e-10: # проверка на близость старых точек к новым\n",
    "            break\n",
    "    \n",
    "    u_prev = u_new\n",
    "\n",
    "print(len(points))"
   ]
  },
  {
   "cell_type": "code",
   "execution_count": 68,
   "id": "e844ea19",
   "metadata": {
    "slideshow": {
     "slide_type": "slide"
    }
   },
   "outputs": [
    {
     "name": "stderr",
     "output_type": "stream",
     "text": [
      "/tmp/ipykernel_243268/2619242260.py:5: RuntimeWarning: overflow encountered in long_scalars\n",
      "  return np.array([2*x, 20*y])\n"
     ]
    }
   ],
   "source": [
    "# Слишком высокий темп обучения - не сходится\n",
    "\n",
    "eta = 1\n",
    "x, y = -3, 3\n",
    "u_prev = np.array([x, y]) # положим точки в массив для векторизации операций\n",
    "\n",
    "points = [] # общий путь\n",
    "for _ in range(steps):\n",
    "    \n",
    "    points.append(u_prev)\n",
    "    \n",
    "    u_new = u_prev - eta * d_f(*u_prev) # вычисление новых точек\n",
    "    \n",
    "    u_prev = u_new"
   ]
  },
  {
   "cell_type": "code",
   "execution_count": 69,
   "id": "ff398704",
   "metadata": {
    "scrolled": true,
    "slideshow": {
     "slide_type": "subslide"
    }
   },
   "outputs": [
    {
     "data": {
      "image/png": "[encoded data removed]",
      "text/plain": [
       "<Figure size 720x360 with 1 Axes>"
      ]
     },
     "metadata": {
      "needs_background": "light"
     },
     "output_type": "display_data"
    }
   ],
   "source": [
    "plt.figure(figsize=(10,5))\n",
    "plt.plot([p[0] for p in points[:30]], [p[1] for p in points[:30]], 'o-');"
   ]
  },
  {
   "cell_type": "code",
   "execution_count": 76,
   "id": "5630a070",
   "metadata": {
    "slideshow": {
     "slide_type": "slide"
    }
   },
   "outputs": [
    {
     "name": "stdout",
     "output_type": "stream",
     "text": [
      "20000\n",
      "[-2.999988    2.99988001]\n"
     ]
    }
   ],
   "source": [
    "# Слишком низкий темп обучения - не сходится\n",
    "\n",
    "eta = 0.0000000001\n",
    "x, y = -3, 3\n",
    "u_prev = np.array([x, y]) # положим точки в массив для векторизации операций\n",
    "\n",
    "points = [] # общий путь\n",
    "for _ in range(steps):\n",
    "    \n",
    "    points.append(u_prev)\n",
    "    \n",
    "    u_new = u_prev - eta * d_f(*u_prev) # вычисление новых точек\n",
    "    \n",
    "    u_prev = u_new\n",
    "\n",
    "print(len(points))\n",
    "print(points[-1])"
   ]
  },
  {
   "cell_type": "markdown",
   "id": "a57e4c06",
   "metadata": {
    "slideshow": {
     "slide_type": "slide"
    }
   },
   "source": [
    "## Градиентный спуск для линейной регрессии\n",
    "\n",
    "$w_j = w_j - \\eta\\frac{\\partial }{\\partial w_j}L(f_w,X,y)$."
   ]
  },
  {
   "cell_type": "markdown",
   "id": "31de1fea",
   "metadata": {
    "slideshow": {
     "slide_type": "subslide"
    }
   },
   "source": [
    "Рассмотрим градиентный спуск для функции потерь\n",
    "\n",
    "$MSE = \\frac {1}{n} \\sum_{i=1}^n (y_i - pred_i)^2$ где $pred_i = <x, w>$\n",
    "\n",
    "$MSE  -> min_w$"
   ]
  },
  {
   "cell_type": "markdown",
   "id": "28a25f7c",
   "metadata": {
    "slideshow": {
     "slide_type": "subslide"
    }
   },
   "source": [
    "[Вывод градиента MSE](https://www.coursera.org/lecture/machine-learning-foundations/vyvod-ghradiienta-dlia-mse-H5Rw9)\n",
    "\n",
    "$\\nabla _w MSE = \\frac {1}{n} \\sum_{i=1}^n 2x_i (<x_i, w_j> - y_i)$\n"
   ]
  },
  {
   "cell_type": "code",
   "execution_count": null,
   "id": "6eb14141",
   "metadata": {
    "slideshow": {
     "slide_type": "subslide"
    }
   },
   "outputs": [],
   "source": [
    "# Псевдокод обучения линейной регрессии методом градиентного спуска\n",
    "\n",
    "w = random()         \n",
    "for e in range(epochs):\n",
    "    y_pred = X.dot(w)\n",
    "    err = MSE(y, y_pred)\n",
    "    grad = 2 * X.T.dot(err) / n\n",
    "    w -= eta * grad "
   ]
  },
  {
   "cell_type": "markdown",
   "id": "4ecf4920",
   "metadata": {
    "slideshow": {
     "slide_type": "slide"
    }
   },
   "source": [
    "## Стохастический градиентный спуск\n",
    "\n",
    "Основная идея: оценка градиентна по подвыборке\n",
    "\n",
    "$L(w, X, y) = \\frac{1}{n} \\sum_{i=1}^n L(W, x_i, y_i)$\n",
    "\n",
    "$\\nabla _w L(w, X, y) = \\frac {1}{B} \\sum_{i=1}^B \\nabla _w L(w, X_i, y_i) $"
   ]
  },
  {
   "cell_type": "code",
   "execution_count": null,
   "id": "c80abfd4",
   "metadata": {
    "slideshow": {
     "slide_type": "subslide"
    }
   },
   "outputs": [],
   "source": [
    "w = random()         \n",
    "for e in range(epochs):\n",
    "    for x_batch, y_batch in batches:\n",
    "        y_pred = x_batch.dot(w)\n",
    "        err = MSE(y_batch, y_pred)\n",
    "        grad = 2 * x_batch.T.dot(err) / n\n",
    "        w -= eta * grad"
   ]
  },
  {
   "cell_type": "markdown",
   "id": "b501cc9d",
   "metadata": {
    "slideshow": {
     "slide_type": "subslide"
    }
   },
   "source": [
    "![grad](https://ml-handbook.ru/chapters/linear_models/images/sgd_vs_gd.png)"
   ]
  },
  {
   "cell_type": "markdown",
   "id": "d1e4a36b",
   "metadata": {
    "slideshow": {
     "slide_type": "subslide"
    }
   },
   "source": [
    "![Gradient descent](https://miro.medium.com/max/1400/1*KoskxJ848dZqSnp40H95iA.png)"
   ]
  },
  {
   "cell_type": "markdown",
   "id": "65696c36",
   "metadata": {
    "slideshow": {
     "slide_type": "subslide"
    }
   },
   "source": [
    "![sgd](https://miro.medium.com/max/1400/1*GbVZ-4a9NfQxm-kfk4Y8Ww.png)"
   ]
  },
  {
   "cell_type": "markdown",
   "id": "f57e6de0",
   "metadata": {
    "slideshow": {
     "slide_type": "subslide"
    }
   },
   "source": [
    "![sgd](https://miro.medium.com/max/1400/1*qKbbN_iT2JWmg7_MLU6AwA.png)"
   ]
  },
  {
   "cell_type": "code",
   "execution_count": null,
   "id": "4eb1c210",
   "metadata": {},
   "outputs": [],
   "source": []
  }
 ],
 "metadata": {
  "celltoolbar": "Slideshow",
  "kernelspec": {
   "display_name": "Python 3 (ipykernel)",
   "language": "python",
   "name": "python3"
  },
  "language_info": {
   "codemirror_mode": {
    "name": "ipython",
    "version": 3
   },
   "file_extension": ".py",
   "mimetype": "text/x-python",
   "name": "python",
   "nbconvert_exporter": "python",
   "pygments_lexer": "ipython3",
   "version": "3.8.10"
  }
 },
 "nbformat": 4,
 "nbformat_minor": 5
}
